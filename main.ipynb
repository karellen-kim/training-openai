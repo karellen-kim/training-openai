{
 "cells": [
  {
   "cell_type": "code",
   "execution_count": 4,
   "metadata": {
    "collapsed": true,
    "ExecuteTime": {
     "start_time": "2023-05-17T00:15:34.863683Z",
     "end_time": "2023-05-17T00:15:34.868277Z"
    }
   },
   "outputs": [],
   "source": [
    "import os\n",
    "import openai\n",
    "from dotenv import load_dotenv\n",
    "load_dotenv()\n",
    "openai.api_key = os.getenv(\"OPENAI_API_KEY\")"
   ]
  },
  {
   "cell_type": "code",
   "execution_count": 3,
   "outputs": [
    {
     "data": {
      "text/plain": "'전기요금과 가스요금이 각각 5.3% 오르며, 4인 가족 평균 사용량으로 보면 전기요금은 약 3천 원, 가스요금은 4,400원가량 더 부담하게 됩니다. 정부는 에너지 공기업의 정상화를 위해 요금 인상이 불가피하다며 국민들의 이해를 구했고, 일부 사회배려계층은 1년간 요금 인상을 적용하지 않습니다.'"
     },
     "execution_count": 3,
     "metadata": {},
     "output_type": "execute_result"
    }
   ],
   "source": [
    "text = f\"\"\"\n",
    "오늘부터 전기요금이 kWh당 8원, 가스요금은 MJ당 1.04원 올랐습니다.\n",
    "기존 요금 수준에서 각각 5.3% 오른 겁니다.\n",
    "4인 가족 평균 사용량으로 보면 한 달 전기요금은 약 3천 원, 가스요금은 4,400원가량 더 부담하게 됩니다.\n",
    "2분기 요금 결정이 예년보다 한 달 반 정도 늦었지만 인상분은 소급 적용되지 않습니다.\n",
    "정부는 경영난에 처한 에너지 공기업들의 정상화를 위해 요금 인상이 불가피하다며 국민들의 이해를 구했습니다.\n",
    "[이창양/산업통상자원부 장관 : \"안정적인 전력 구매 및 가스 도입에 차질이 발생할 우려가 있습니다. 공기업의 설비투자 및 공사 발주 축소 등에 따라 에너지산업 생태계도 취약해질 수 있습니다.\"]\n",
    "팔면 팔수록 손해를 보는 전기요금 구조는 완전한 해결은 아니지만 어느 정도 개선이 기대됩니다.\n",
    "kWh당 전력 구입가는 170.6원, 판매가(146.5원)는 이보다 20원 이상 낮았는데 이번 조정으로 차이가 줄어들었습니다.\n",
    "[이호현/산업부 전력정책관 : \"글로벌 에너지 가격, 가스 가격하고 원유, 유연탄 가격, 이런 것들의 가격 트렌드(흐름)를 종합적으로 이번에 고려했고요.\"]\n",
    "정부는 다자녀, 저소득, 장애인 등 사회배려계층 360만 호에 대해 평균 사용량까진 1년간 요금 인상을 적용하지 않기로 했습니다.\n",
    "일반 가구의 경우 전기 소비를 줄이면 kWh당 최대 100원까지 할인받는 '에너지 캐시백' 제도를 7월부터 확대하기로 했습니다.\n",
    "\"\"\"\n",
    "prompt = f\"\"\"\n",
    "backtick 세 개로 구분된 텍스트를 한 문장으로 요약한다.\n",
    "```{text}```\n",
    "\"\"\"\n",
    "\n",
    "messages = [{ \"role\": \"user\", \"content\": prompt }]\n",
    "response = openai.ChatCompletion.create(\n",
    "  model=\"gpt-3.5-turbo\",\n",
    "  messages=messages,\n",
    "  temperature=0,\n",
    ")\n",
    "\n",
    "response.choices[0].message[\"content\"]"
   ],
   "metadata": {
    "collapsed": false,
    "ExecuteTime": {
     "start_time": "2023-05-17T00:15:18.696000Z",
     "end_time": "2023-05-17T00:15:34.867960Z"
    }
   }
  },
  {
   "cell_type": "code",
   "execution_count": null,
   "outputs": [],
   "source": [],
   "metadata": {
    "collapsed": false
   }
  }
 ],
 "metadata": {
  "kernelspec": {
   "display_name": "Python 3",
   "language": "python",
   "name": "python3"
  },
  "language_info": {
   "codemirror_mode": {
    "name": "ipython",
    "version": 2
   },
   "file_extension": ".py",
   "mimetype": "text/x-python",
   "name": "python",
   "nbconvert_exporter": "python",
   "pygments_lexer": "ipython2",
   "version": "2.7.6"
  }
 },
 "nbformat": 4,
 "nbformat_minor": 0
}
